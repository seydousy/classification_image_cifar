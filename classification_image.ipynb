{
  "cells": [
    {
      "cell_type": "code",
      "source": [
        "import torch\n",
        "import torch.nn as nn\n",
        "import torch.optim as optim\n",
        "import torch.nn.functional as F\n",
        "import torchvision\n",
        "import torchvision.transforms as transforms\n",
        "from torch.utils.data import random_split, DataLoader\n",
        "import matplotlib.pyplot as plt\n",
        "import numpy as np"
      ],
      "metadata": {
        "id": "KwTCLrg7Joca"
      },
      "execution_count": null,
      "outputs": []
    },
    {
      "cell_type": "code",
      "source": [
        "# Détection du device (GPU si disponible, sinon CPU)\n",
        "device = torch.device(\"cuda\" if torch.cuda.is_available() else \"cpu\")"
      ],
      "metadata": {
        "id": "Ggaje1eF2fgT"
      },
      "execution_count": null,
      "outputs": []
    },
    {
      "cell_type": "code",
      "source": [
        "# 1. Chargement et Prétraitement des Données\n",
        "# Les images CIFAR-10 sont converties en tenseurs (leurs valeurs sont déjà mises à l'échelle entre 0 et 1 par ToTensor)\n",
        "transform = transforms.ToTensor()\n",
        "\n",
        "# Chargement du dataset CIFAR-10 (train et test)\n",
        "train_dataset = torchvision.datasets.CIFAR10(root='./data', train=True, download=True, transform=transform)\n",
        "test_dataset  = torchvision.datasets.CIFAR10(root='./data', train=False, download=True, transform=transform)"
      ],
      "metadata": {
        "colab": {
          "base_uri": "https://localhost:8080/"
        },
        "id": "i3Lt-ZJVJvrX",
        "outputId": "ac267046-5548-4a00-933e-6b58cad7e009"
      },
      "execution_count": null,
      "outputs": [
        {
          "output_type": "stream",
          "name": "stdout",
          "text": [
            "Downloading https://www.cs.toronto.edu/~kriz/cifar-10-python.tar.gz to ./data/cifar-10-python.tar.gz\n"
          ]
        },
        {
          "output_type": "stream",
          "name": "stderr",
          "text": [
            "100%|██████████| 170M/170M [00:03<00:00, 48.6MB/s]\n"
          ]
        },
        {
          "output_type": "stream",
          "name": "stdout",
          "text": [
            "Extracting ./data/cifar-10-python.tar.gz to ./data\n",
            "Files already downloaded and verified\n"
          ]
        }
      ]
    },
    {
      "cell_type": "code",
      "source": [
        "# On sépare le jeu d'entraînement en train et validation (80%-20%).\n",
        "val_size = int(0.2 * len(train_dataset))\n",
        "train_size = len(train_dataset) - val_size\n",
        "train_dataset, val_dataset = random_split(train_dataset, [train_size, val_size])\n",
        "\n",
        "batch_size = 64\n",
        "\n",
        "train_loader = DataLoader(train_dataset, batch_size=batch_size, shuffle=True, num_workers=2)\n",
        "val_loader   = DataLoader(val_dataset, batch_size=batch_size, shuffle=False, num_workers=2)\n",
        "test_loader  = DataLoader(test_dataset, batch_size=batch_size, shuffle=False, num_workers=2)\n",
        "\n",
        "# Liste des classes\n",
        "class_names = ['avion', 'automobile', 'oiseau', 'chat', 'cerf',\n",
        "               'chien', 'grenouille', 'cheval', 'bateau', 'camion']"
      ],
      "metadata": {
        "id": "UOXuaVdpJz46"
      },
      "execution_count": null,
      "outputs": []
    },
    {
      "cell_type": "code",
      "source": [
        "# 2. Création du Modèle (CNN)\n",
        "class Net(nn.Module):\n",
        "    def __init__(self, num_classes=10):\n",
        "        super(Net, self).__init__()\n",
        "        # Bloc 1\n",
        "        self.conv1 = nn.Conv2d(3, 32, kernel_size=3, padding=1)\n",
        "        self.bn1   = nn.BatchNorm2d(32)\n",
        "        self.conv2 = nn.Conv2d(32, 32, kernel_size=3, padding=1)\n",
        "        self.bn2   = nn.BatchNorm2d(32)\n",
        "        self.pool1 = nn.MaxPool2d(2, 2)\n",
        "        self.dropout1 = nn.Dropout(0.25)\n",
        "        # Bloc 2\n",
        "        self.conv3 = nn.Conv2d(32, 64, kernel_size=3, padding=1)\n",
        "        self.bn3   = nn.BatchNorm2d(64)\n",
        "        self.conv4 = nn.Conv2d(64, 64, kernel_size=3, padding=1)\n",
        "        self.bn4   = nn.BatchNorm2d(64)\n",
        "        self.pool2 = nn.MaxPool2d(2, 2)\n",
        "        self.dropout2 = nn.Dropout(0.25)\n",
        "        # Couches entièrement connectées\n",
        "        self.flatten = nn.Flatten()\n",
        "        self.fc1 = nn.Linear(64 * 8 * 8, 512)  # CIFAR-10: 32x32 -> pool1 réduit à 16x16, pool2 à 8x8\n",
        "        self.bn5 = nn.BatchNorm1d(512)\n",
        "        self.dropout3 = nn.Dropout(0.5)\n",
        "        self.fc2 = nn.Linear(512, num_classes)\n",
        "\n",
        "    def forward(self, x):\n",
        "        # Bloc 1\n",
        "        x = F.relu(self.bn1(self.conv1(x)))\n",
        "        x = F.relu(self.bn2(self.conv2(x)))\n",
        "        x = self.pool1(x)\n",
        "        x = self.dropout1(x)\n",
        "        # Bloc 2\n",
        "        x = F.relu(self.bn3(self.conv3(x)))\n",
        "        x = F.relu(self.bn4(self.conv4(x)))\n",
        "        x = self.pool2(x)\n",
        "        x = self.dropout2(x)\n",
        "        # Couches entièrement connectées\n",
        "        x = self.flatten(x)\n",
        "        x = F.relu(self.bn5(self.fc1(x)))\n",
        "        x = self.dropout3(x)\n",
        "        x = self.fc2(x)  # On renvoie les logits (pas de softmax ici, car CrossEntropyLoss s'en charge)\n",
        "        return x\n",
        "\n",
        "model = Net().to(device)\n",
        "print(model)"
      ],
      "metadata": {
        "colab": {
          "base_uri": "https://localhost:8080/"
        },
        "id": "AR-MTjhuJ3mn",
        "outputId": "c2a38ce9-a9a7-42d8-b31c-35d6aa1b9591"
      },
      "execution_count": null,
      "outputs": [
        {
          "output_type": "stream",
          "name": "stdout",
          "text": [
            "Net(\n",
            "  (conv1): Conv2d(3, 32, kernel_size=(3, 3), stride=(1, 1), padding=(1, 1))\n",
            "  (bn1): BatchNorm2d(32, eps=1e-05, momentum=0.1, affine=True, track_running_stats=True)\n",
            "  (conv2): Conv2d(32, 32, kernel_size=(3, 3), stride=(1, 1), padding=(1, 1))\n",
            "  (bn2): BatchNorm2d(32, eps=1e-05, momentum=0.1, affine=True, track_running_stats=True)\n",
            "  (pool1): MaxPool2d(kernel_size=2, stride=2, padding=0, dilation=1, ceil_mode=False)\n",
            "  (dropout1): Dropout(p=0.25, inplace=False)\n",
            "  (conv3): Conv2d(32, 64, kernel_size=(3, 3), stride=(1, 1), padding=(1, 1))\n",
            "  (bn3): BatchNorm2d(64, eps=1e-05, momentum=0.1, affine=True, track_running_stats=True)\n",
            "  (conv4): Conv2d(64, 64, kernel_size=(3, 3), stride=(1, 1), padding=(1, 1))\n",
            "  (bn4): BatchNorm2d(64, eps=1e-05, momentum=0.1, affine=True, track_running_stats=True)\n",
            "  (pool2): MaxPool2d(kernel_size=2, stride=2, padding=0, dilation=1, ceil_mode=False)\n",
            "  (dropout2): Dropout(p=0.25, inplace=False)\n",
            "  (flatten): Flatten(start_dim=1, end_dim=-1)\n",
            "  (fc1): Linear(in_features=4096, out_features=512, bias=True)\n",
            "  (bn5): BatchNorm1d(512, eps=1e-05, momentum=0.1, affine=True, track_running_stats=True)\n",
            "  (dropout3): Dropout(p=0.5, inplace=False)\n",
            "  (fc2): Linear(in_features=512, out_features=10, bias=True)\n",
            ")\n"
          ]
        }
      ]
    },
    {
      "cell_type": "code",
      "source": [
        "# 3. Définition de la fonction de perte et de l'optimiseur\n",
        "criterion = nn.CrossEntropyLoss()\n",
        "optimizer = optim.Adam(model.parameters(), lr=0.001)\n",
        "\n",
        "# Mise en place d'un early stopping simple\n",
        "patience = 10\n",
        "best_val_acc = 0.0\n",
        "epochs_without_improvement = 0\n",
        "num_epochs = 50"
      ],
      "metadata": {
        "id": "pizzyvkgJ-9k"
      },
      "execution_count": null,
      "outputs": []
    },
    {
      "cell_type": "code",
      "source": [
        "# 4. Entraînement du Modèle\n",
        "for epoch in range(num_epochs):\n",
        "    model.train()\n",
        "    running_loss = 0.0\n",
        "    for inputs, labels in train_loader:\n",
        "        inputs = inputs.to(device)\n",
        "        labels = labels.to(device)  # Les labels sont déjà des indices entiers (pas one-hot)\n",
        "\n",
        "        optimizer.zero_grad()\n",
        "        outputs = model(inputs)\n",
        "        loss = criterion(outputs, labels)\n",
        "        loss.backward()\n",
        "        optimizer.step()\n",
        "\n",
        "        running_loss += loss.item()\n",
        "\n",
        "    avg_loss = running_loss / len(train_loader)\n",
        "\n",
        "    # Validation\n",
        "    model.eval()\n",
        "    correct = 0\n",
        "    total = 0\n",
        "    with torch.no_grad():\n",
        "        for inputs, labels in val_loader:\n",
        "            inputs = inputs.to(device)\n",
        "            labels = labels.to(device)\n",
        "            outputs = model(inputs)\n",
        "            _, predicted = torch.max(outputs.data, 1)\n",
        "            total += labels.size(0)\n",
        "            correct += (predicted == labels).sum().item()\n",
        "    val_acc = correct / total\n",
        "    print(f\"Epoch {epoch+1}/{num_epochs} - Loss: {avg_loss:.4f} - Validation Accuracy: {val_acc:.4f}\")\n",
        "\n",
        "    # Early stopping\n",
        "    if val_acc > best_val_acc:\n",
        "        best_val_acc = val_acc\n",
        "        best_model_wts = model.state_dict()\n",
        "        epochs_without_improvement = 0\n",
        "    else:\n",
        "        epochs_without_improvement += 1\n",
        "        if epochs_without_improvement >= patience:\n",
        "            print(\"Early stopping déclenché.\")\n",
        "            break\n",
        "\n",
        "# Charger les meilleurs poids enregistrés\n",
        "model.load_state_dict(best_model_wts)"
      ],
      "metadata": {
        "colab": {
          "base_uri": "https://localhost:8080/"
        },
        "id": "cx-bXcI4KGBF",
        "outputId": "4d7927b9-6fd8-4aaf-b690-e585ae0a709c"
      },
      "execution_count": null,
      "outputs": [
        {
          "output_type": "stream",
          "name": "stdout",
          "text": [
            "Epoch 1/50 - Loss: 1.2582 - Validation Accuracy: 0.6736\n",
            "Epoch 2/50 - Loss: 0.9071 - Validation Accuracy: 0.7047\n",
            "Epoch 3/50 - Loss: 0.7888 - Validation Accuracy: 0.7371\n",
            "Epoch 4/50 - Loss: 0.7002 - Validation Accuracy: 0.7632\n",
            "Epoch 5/50 - Loss: 0.6350 - Validation Accuracy: 0.7830\n",
            "Epoch 6/50 - Loss: 0.5859 - Validation Accuracy: 0.7913\n",
            "Epoch 7/50 - Loss: 0.5358 - Validation Accuracy: 0.7946\n",
            "Epoch 8/50 - Loss: 0.4961 - Validation Accuracy: 0.7909\n",
            "Epoch 9/50 - Loss: 0.4541 - Validation Accuracy: 0.8032\n",
            "Epoch 10/50 - Loss: 0.4267 - Validation Accuracy: 0.8142\n",
            "Epoch 11/50 - Loss: 0.3926 - Validation Accuracy: 0.8097\n",
            "Epoch 12/50 - Loss: 0.3630 - Validation Accuracy: 0.8173\n",
            "Epoch 13/50 - Loss: 0.3392 - Validation Accuracy: 0.8135\n",
            "Epoch 14/50 - Loss: 0.3199 - Validation Accuracy: 0.8197\n",
            "Epoch 15/50 - Loss: 0.3028 - Validation Accuracy: 0.8213\n",
            "Epoch 16/50 - Loss: 0.2799 - Validation Accuracy: 0.8266\n",
            "Epoch 17/50 - Loss: 0.2697 - Validation Accuracy: 0.8317\n",
            "Epoch 18/50 - Loss: 0.2521 - Validation Accuracy: 0.8336\n",
            "Epoch 19/50 - Loss: 0.2430 - Validation Accuracy: 0.8174\n",
            "Epoch 20/50 - Loss: 0.2285 - Validation Accuracy: 0.8338\n",
            "Epoch 21/50 - Loss: 0.2181 - Validation Accuracy: 0.8318\n",
            "Epoch 22/50 - Loss: 0.2111 - Validation Accuracy: 0.8275\n",
            "Epoch 23/50 - Loss: 0.2018 - Validation Accuracy: 0.8333\n",
            "Epoch 24/50 - Loss: 0.1966 - Validation Accuracy: 0.8304\n",
            "Epoch 25/50 - Loss: 0.1915 - Validation Accuracy: 0.8217\n",
            "Epoch 26/50 - Loss: 0.1788 - Validation Accuracy: 0.8296\n",
            "Epoch 27/50 - Loss: 0.1730 - Validation Accuracy: 0.8359\n",
            "Epoch 28/50 - Loss: 0.1690 - Validation Accuracy: 0.8331\n",
            "Epoch 29/50 - Loss: 0.1708 - Validation Accuracy: 0.8277\n",
            "Epoch 30/50 - Loss: 0.1611 - Validation Accuracy: 0.8353\n",
            "Epoch 31/50 - Loss: 0.1626 - Validation Accuracy: 0.8300\n",
            "Epoch 32/50 - Loss: 0.1508 - Validation Accuracy: 0.8335\n",
            "Epoch 33/50 - Loss: 0.1511 - Validation Accuracy: 0.8281\n",
            "Epoch 34/50 - Loss: 0.1425 - Validation Accuracy: 0.8300\n",
            "Epoch 35/50 - Loss: 0.1424 - Validation Accuracy: 0.8330\n",
            "Epoch 36/50 - Loss: 0.1330 - Validation Accuracy: 0.8401\n",
            "Epoch 37/50 - Loss: 0.1363 - Validation Accuracy: 0.8377\n",
            "Epoch 38/50 - Loss: 0.1330 - Validation Accuracy: 0.8382\n",
            "Epoch 39/50 - Loss: 0.1261 - Validation Accuracy: 0.8353\n",
            "Epoch 40/50 - Loss: 0.1289 - Validation Accuracy: 0.8408\n",
            "Epoch 41/50 - Loss: 0.1278 - Validation Accuracy: 0.8354\n",
            "Epoch 42/50 - Loss: 0.1285 - Validation Accuracy: 0.8385\n",
            "Epoch 43/50 - Loss: 0.1239 - Validation Accuracy: 0.8421\n",
            "Epoch 44/50 - Loss: 0.1179 - Validation Accuracy: 0.8418\n",
            "Epoch 45/50 - Loss: 0.1172 - Validation Accuracy: 0.8408\n",
            "Epoch 46/50 - Loss: 0.1169 - Validation Accuracy: 0.8364\n",
            "Epoch 47/50 - Loss: 0.1150 - Validation Accuracy: 0.8380\n",
            "Epoch 48/50 - Loss: 0.1094 - Validation Accuracy: 0.8335\n",
            "Epoch 49/50 - Loss: 0.1125 - Validation Accuracy: 0.8334\n",
            "Epoch 50/50 - Loss: 0.1108 - Validation Accuracy: 0.8344\n"
          ]
        },
        {
          "output_type": "execute_result",
          "data": {
            "text/plain": [
              "<All keys matched successfully>"
            ]
          },
          "metadata": {},
          "execution_count": 7
        }
      ]
    },
    {
      "cell_type": "code",
      "source": [
        "# 5. Évaluation du Modèle sur le Jeu de Test\n",
        "model.eval()\n",
        "test_loss = 0.0\n",
        "correct = 0\n",
        "total = 0\n",
        "with torch.no_grad():\n",
        "    for inputs, labels in test_loader:\n",
        "        inputs = inputs.to(device)\n",
        "        labels = labels.to(device)\n",
        "        outputs = model(inputs)\n",
        "        loss = criterion(outputs, labels)\n",
        "        test_loss += loss.item()\n",
        "        _, predicted = torch.max(outputs.data, 1)\n",
        "        total += labels.size(0)\n",
        "        correct += (predicted == labels).sum().item()\n",
        "\n",
        "avg_test_loss = test_loss / len(test_loader)\n",
        "test_acc = correct / total\n",
        "print(\"Test Loss  :\", avg_test_loss)\n",
        "print(\"Test Accuracy  :\", test_acc)"
      ],
      "metadata": {
        "colab": {
          "base_uri": "https://localhost:8080/"
        },
        "id": "mc7jQMs_KNOS",
        "outputId": "6d994a22-19de-4cb4-c483-db31e644d50d"
      },
      "execution_count": null,
      "outputs": [
        {
          "output_type": "stream",
          "name": "stdout",
          "text": [
            "Test Loss  : 0.6744320723851016\n",
            "Test Accuracy  : 0.8315\n"
          ]
        }
      ]
    },
    {
      "cell_type": "code",
      "source": [
        "# 6. Réalisation de Prédictions sur Quelques Images du Jeu de Test\n",
        "model.eval()\n",
        "# Sélectionner 5 images du jeu de test\n",
        "dataiter = iter(test_loader)\n",
        "images, labels = dataiter.__next__()\n",
        "images = images[:5].to(device)\n",
        "outputs = model(images)\n",
        "# Appliquer softmax pour obtenir des probabilités\n",
        "probabilities = F.softmax(outputs, dim=1).detach().cpu().numpy()\n",
        "print(\"Prédictions (probabilités) pour les 5 premières images :\")\n",
        "print(np.round(probabilities, 3))"
      ],
      "metadata": {
        "colab": {
          "base_uri": "https://localhost:8080/"
        },
        "id": "7fIlusBOKQvs",
        "outputId": "262aca8a-67e7-489f-e3fe-81b718e7d9b9"
      },
      "execution_count": null,
      "outputs": [
        {
          "output_type": "stream",
          "name": "stdout",
          "text": [
            "Prédictions (probabilités) pour les 5 premières images :\n",
            "[[0.    0.    0.    0.946 0.    0.054 0.    0.    0.    0.   ]\n",
            " [0.    0.001 0.    0.    0.    0.    0.    0.    0.999 0.   ]\n",
            " [0.004 0.019 0.    0.    0.    0.    0.    0.    0.973 0.005]\n",
            " [0.293 0.102 0.    0.    0.    0.    0.    0.    0.585 0.02 ]\n",
            " [0.    0.    0.    0.    0.    0.    1.    0.    0.    0.   ]]\n"
          ]
        }
      ]
    },
    {
      "cell_type": "code",
      "source": [
        "# Visualisation\n",
        "images = images.cpu().numpy()\n",
        "plt.figure(figsize=(12, 4))\n",
        "for i in range(5):\n",
        "    plt.subplot(1, 5, i+1)\n",
        "    # Les images sont au format (C, H, W); on transpose pour matplotlib\n",
        "    plt.imshow(np.transpose(images[i], (1, 2, 0)))\n",
        "    true_label = class_names[labels[i]]\n",
        "    pred_label = class_names[np.argmax(probabilities[i])]\n",
        "    plt.title(f\"Vrai: {true_label}\\nPrédit: {pred_label}\")\n",
        "    plt.axis('off')\n",
        "plt.tight_layout()\n",
        "plt.show()"
      ],
      "metadata": {
        "colab": {
          "base_uri": "https://localhost:8080/",
          "height": 302
        },
        "id": "S2IChueGKVTZ",
        "outputId": "cc70a359-691f-4de9-9105-2a574cf515d7"
      },
      "execution_count": null,
      "outputs": [
        {
          "output_type": "display_data",
          "data": {
            "text/plain": [
              "<Figure size 1200x400 with 5 Axes>"
            ],
            "image/png": "[encoded data removed]"
          },
          "metadata": {}
        }
      ]
    },
    {
      "cell_type": "code",
      "source": [
        "# 7. Sauvegarde du modèle\n",
        "torch.save(model.state_dict(), 'mon_modele.pth')"
      ],
      "metadata": {
        "id": "VHxGnY1PKZeP"
      },
      "execution_count": null,
      "outputs": []
    }
  ],
  "metadata": {
    "colab": {
      "provenance": [],
      "gpuType": "T4"
    },
    "kernelspec": {
      "display_name": "Python 3",
      "name": "python3"
    },
    "language_info": {
      "name": "python"
    },
    "accelerator": "GPU"
  },
  "nbformat": 4,
  "nbformat_minor": 0
}